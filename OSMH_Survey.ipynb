{
  "cells": [
    {
      "cell_type": "code",
      "execution_count": 53,
      "metadata": {
        "colab": {
          "base_uri": "https://localhost:8080/"
        },
        "id": "5_4lwOgFT05b",
        "outputId": "fb6bc88b-e85c-4d5f-c6d2-8c200f0781ea"
      },
      "outputs": [
        {
          "output_type": "stream",
          "name": "stdout",
          "text": [
            "Drive already mounted at /content/drive; to attempt to forcibly remount, call drive.mount(\"/content/drive\", force_remount=True).\n"
          ]
        }
      ],
      "source": [
        "import pandas as pd\n",
        "import os\n",
        "import numpy as np\n",
        "import seaborn as sns\n",
        "import matplotlib.pyplot as plt\n",
        "\n",
        "# Load the Drive helper and mount\n",
        "from google.colab import drive\n",
        "drive.mount('/content/drive')\n",
        "\n",
        "\n",
        "pd.set_option('display.max_columns', None)\n",
        "pd.set_option('max_rows', None)"
      ]
    },
    {
      "cell_type": "markdown",
      "metadata": {
        "id": "OAUNmFQXRzyk"
      },
      "source": [
        "### Improting last 5 years survey data"
      ]
    },
    {
      "cell_type": "code",
      "execution_count": 54,
      "metadata": {
        "id": "CvFj8szyW2w1"
      },
      "outputs": [],
      "source": [
        "data_frames = []\n",
        "\n",
        "data_paths = [\n",
        "  '/content/drive/MyDrive/Classroom/FA22 RP/OSMH-Mental-Health-Survey/data/2017.csv',\n",
        "  '/content/drive/MyDrive/Classroom/FA22 RP/OSMH-Mental-Health-Survey/data/2018.csv',\n",
        "  '/content/drive/MyDrive/Classroom/FA22 RP/OSMH-Mental-Health-Survey/data/2019.csv',\n",
        "  '/content/drive/MyDrive/Classroom/FA22 RP/OSMH-Mental-Health-Survey/data/2020.csv',\n",
        "  '/content/drive/MyDrive/Classroom/FA22 RP/OSMH-Mental-Health-Survey/data/2021.csv', \n",
        "]\n",
        "\n",
        "col_renames = {\n",
        "    '*Are you self-employed?*': 'self_employed',\n",
        "    '<strong>Are you self-employed?</strong>': 'self_employed', \n",
        "    'Is your employer primarily a tech company/organization?': 'tech_company',\n",
        "    'Is your primary role within your company related to tech/IT?': 'tech_related_role', \n",
        "    'Does your employer provide mental health benefits as part of healthcare coverage?': 'benefits',\n",
        "    'Does your employer provide mental health benefits as part of healthcare coverage?': 'benefits',\n",
        "    'Does your employer offer resources to learn more about mental health disorders and options for seeking help?': 'workplace_resources',\n",
        "    'Have you ever discussed your mental health with your employer?': 'mh_employer_discussion',\n",
        "    'Have you ever discussed your mental health with coworkers?': 'mh_coworker_discussion',\n",
        "    'Do you have medical coverage (private insurance or state-provided) that includes treatment of mental health disorders?': 'medical_coverage', \n",
        "    'Do you currently have a mental health disorder?': 'mental_health',\n",
        "    'Do you *currently* have a mental health disorder?': 'mental_health',\n",
        "    'Do you *currently* have a mental health disorder?': 'mental_health',\n",
        "    'How willing would you be to share with friends and family that you have a mental illness?': 'mh_share',\n",
        "    'What is your age?': 'age',\n",
        "    'What is your gender?': 'gender',\n",
        "    'What country do you *live* in?': 'country',\n",
        "    'What country do you <strong>live</strong> in?': 'country',\n",
        "    'Does your employer provide mental health benefits as part of healthcare coverage?\t': 'benefits',\n",
        "}\n",
        "\n",
        "col_to_keep = col_renames.keys()\n"
      ]
    },
    {
      "cell_type": "code",
      "execution_count": 55,
      "metadata": {
        "colab": {
          "base_uri": "https://localhost:8080/"
        },
        "id": "0bboB4Y4XBYW",
        "outputId": "3ba79dac-6cac-4490-c49f-f0af03e7ea83"
      },
      "outputs": [
        {
          "output_type": "stream",
          "name": "stdout",
          "text": [
            "\n",
            "Reading file:  /content/drive/MyDrive/Classroom/FA22 RP/OSMH-Mental-Health-Survey/data/2017.csv\n",
            "Shape - default:  (756, 123)\n",
            "Shape - filtered:  (756, 84)\n",
            "Shape - column filtered:  (756, 13)\n",
            "\n",
            "Reading file:  /content/drive/MyDrive/Classroom/FA22 RP/OSMH-Mental-Health-Survey/data/2018.csv\n",
            "Shape - default:  (417, 123)\n",
            "Shape - filtered:  (417, 84)\n",
            "Shape - column filtered:  (417, 13)\n",
            "\n",
            "Reading file:  /content/drive/MyDrive/Classroom/FA22 RP/OSMH-Mental-Health-Survey/data/2019.csv\n",
            "Shape - default:  (352, 82)\n",
            "Shape - filtered:  (352, 78)\n",
            "Shape - column filtered:  (352, 13)\n",
            "\n",
            "Reading file:  /content/drive/MyDrive/Classroom/FA22 RP/OSMH-Mental-Health-Survey/data/2020.csv\n",
            "Shape - default:  (180, 120)\n",
            "Shape - filtered:  (180, 81)\n",
            "Shape - column filtered:  (180, 13)\n",
            "\n",
            "Reading file:  /content/drive/MyDrive/Classroom/FA22 RP/OSMH-Mental-Health-Survey/data/2021.csv\n",
            "Shape - default:  (131, 124)\n",
            "Shape - filtered:  (131, 83)\n",
            "Shape - column filtered:  (131, 13)\n"
          ]
        }
      ],
      "source": [
        "for path in data_paths:\n",
        "  print(\"\\nReading file: \", path)\n",
        "  df = pd.read_csv(path)\n",
        "  print('Shape - default: ', df.shape)\n",
        "\n",
        "  # We have a lot of columns and many with a lot of missing values. let's filter those columns and keep only those who have less than 90% missing values.\n",
        "  max_na_filter = (0.9 * len(df))\n",
        "  df = df.loc[:,(df.isnull().sum(axis = 0) <= max_na_filter)]\n",
        "  print('Shape - filtered: ', df.shape)\n",
        "\n",
        "  # Removing not needed columns\n",
        "  col_to_drop = [item for item in df.columns if item not in col_to_keep]\n",
        "  df.drop(columns = col_to_drop, inplace = True, errors = 'ignore')\n",
        "  print('Shape - column filtered: ', df.shape)\n",
        "\n",
        "  # Renaming columns\n",
        "  df.drop(columns = col_to_drop, inplace = True, errors = 'ignore')\n",
        "  df.rename(columns = col_renames, inplace = True, errors = 'ignore') \n",
        "\n",
        "  # Storing data frames in list\n",
        "  data_frames.append(df)"
      ]
    },
    {
      "cell_type": "code",
      "execution_count": 56,
      "metadata": {
        "colab": {
          "base_uri": "https://localhost:8080/"
        },
        "id": "t3urVbMgXBWA",
        "outputId": "615cd9bc-0483-4229-933b-e1f5bc370d70"
      },
      "outputs": [
        {
          "output_type": "stream",
          "name": "stdout",
          "text": [
            "Shape - combined data:  (1836, 13)\n"
          ]
        }
      ],
      "source": [
        "data_df = pd.concat(data_frames, ignore_index = True)\n",
        "print('Shape - combined data: ', data_df.shape)"
      ]
    },
    {
      "cell_type": "code",
      "execution_count": 57,
      "metadata": {
        "id": "OApPxk8xM4MX",
        "colab": {
          "base_uri": "https://localhost:8080/",
          "height": 363
        },
        "outputId": "8bfa5f15-0ba8-4103-99db-177795261510"
      },
      "outputs": [
        {
          "output_type": "execute_result",
          "data": {
            "text/plain": [
              "  self_employed tech_company tech_related_role      benefits  \\\n",
              "0             0          1.0               1.0            No   \n",
              "1             0          1.0               1.0           Yes   \n",
              "2             0          1.0               1.0  I don't know   \n",
              "3             0          1.0               1.0           Yes   \n",
              "4             1          NaN               NaN           NaN   \n",
              "5             0          1.0               0.0           Yes   \n",
              "6             0          1.0               1.0           Yes   \n",
              "7             0          1.0               1.0           Yes   \n",
              "8             0          0.0               1.0  I don't know   \n",
              "9             1          NaN               NaN           NaN   \n",
              "\n",
              "  workplace_resources mh_employer_discussion mh_coworker_discussion  \\\n",
              "0        I don't know                    0.0                    1.0   \n",
              "1                  No                    0.0                    1.0   \n",
              "2                  No                    1.0                    1.0   \n",
              "3        I don't know                    1.0                    1.0   \n",
              "4                 NaN                    NaN                    NaN   \n",
              "5        I don't know                    0.0                    0.0   \n",
              "6                  No                    0.0                    1.0   \n",
              "7                  No                    0.0                    0.0   \n",
              "8                  No                    0.0                    0.0   \n",
              "9                 NaN                    NaN                    NaN   \n",
              "\n",
              "  medical_coverage mental_health  mh_share   age  gender  \\\n",
              "0              NaN      Possibly         5  27.0  Female   \n",
              "1              NaN      Possibly         4  31.0    male   \n",
              "2              NaN           Yes         5  36.0    male   \n",
              "3              NaN           Yes        10  22.0    Male   \n",
              "4              0.0            No        10  52.0  female   \n",
              "5              NaN            No         5  30.0    male   \n",
              "6              NaN           Yes         8  36.0       F   \n",
              "7              NaN            No         3  38.0  Female   \n",
              "8              NaN    Don't Know         6  35.0    Male   \n",
              "9              1.0      Possibly         4  36.0    male   \n",
              "\n",
              "                    country  \n",
              "0            United Kingdom  \n",
              "1            United Kingdom  \n",
              "2  United States of America  \n",
              "3  United States of America  \n",
              "4  United States of America  \n",
              "5  United States of America  \n",
              "6  United States of America  \n",
              "7  United States of America  \n",
              "8               Switzerland  \n",
              "9                     India  "
            ],
            "text/html": [
              "\n",
              "  <div id=\"df-d46951b3-883c-481d-8ecc-d85c774468de\">\n",
              "    <div class=\"colab-df-container\">\n",
              "      <div>\n",
              "<style scoped>\n",
              "    .dataframe tbody tr th:only-of-type {\n",
              "        vertical-align: middle;\n",
              "    }\n",
              "\n",
              "    .dataframe tbody tr th {\n",
              "        vertical-align: top;\n",
              "    }\n",
              "\n",
              "    .dataframe thead th {\n",
              "        text-align: right;\n",
              "    }\n",
              "</style>\n",
              "<table border=\"1\" class=\"dataframe\">\n",
              "  <thead>\n",
              "    <tr style=\"text-align: right;\">\n",
              "      <th></th>\n",
              "      <th>self_employed</th>\n",
              "      <th>tech_company</th>\n",
              "      <th>tech_related_role</th>\n",
              "      <th>benefits</th>\n",
              "      <th>workplace_resources</th>\n",
              "      <th>mh_employer_discussion</th>\n",
              "      <th>mh_coworker_discussion</th>\n",
              "      <th>medical_coverage</th>\n",
              "      <th>mental_health</th>\n",
              "      <th>mh_share</th>\n",
              "      <th>age</th>\n",
              "      <th>gender</th>\n",
              "      <th>country</th>\n",
              "    </tr>\n",
              "  </thead>\n",
              "  <tbody>\n",
              "    <tr>\n",
              "      <th>0</th>\n",
              "      <td>0</td>\n",
              "      <td>1.0</td>\n",
              "      <td>1.0</td>\n",
              "      <td>No</td>\n",
              "      <td>I don't know</td>\n",
              "      <td>0.0</td>\n",
              "      <td>1.0</td>\n",
              "      <td>NaN</td>\n",
              "      <td>Possibly</td>\n",
              "      <td>5</td>\n",
              "      <td>27.0</td>\n",
              "      <td>Female</td>\n",
              "      <td>United Kingdom</td>\n",
              "    </tr>\n",
              "    <tr>\n",
              "      <th>1</th>\n",
              "      <td>0</td>\n",
              "      <td>1.0</td>\n",
              "      <td>1.0</td>\n",
              "      <td>Yes</td>\n",
              "      <td>No</td>\n",
              "      <td>0.0</td>\n",
              "      <td>1.0</td>\n",
              "      <td>NaN</td>\n",
              "      <td>Possibly</td>\n",
              "      <td>4</td>\n",
              "      <td>31.0</td>\n",
              "      <td>male</td>\n",
              "      <td>United Kingdom</td>\n",
              "    </tr>\n",
              "    <tr>\n",
              "      <th>2</th>\n",
              "      <td>0</td>\n",
              "      <td>1.0</td>\n",
              "      <td>1.0</td>\n",
              "      <td>I don't know</td>\n",
              "      <td>No</td>\n",
              "      <td>1.0</td>\n",
              "      <td>1.0</td>\n",
              "      <td>NaN</td>\n",
              "      <td>Yes</td>\n",
              "      <td>5</td>\n",
              "      <td>36.0</td>\n",
              "      <td>male</td>\n",
              "      <td>United States of America</td>\n",
              "    </tr>\n",
              "    <tr>\n",
              "      <th>3</th>\n",
              "      <td>0</td>\n",
              "      <td>1.0</td>\n",
              "      <td>1.0</td>\n",
              "      <td>Yes</td>\n",
              "      <td>I don't know</td>\n",
              "      <td>1.0</td>\n",
              "      <td>1.0</td>\n",
              "      <td>NaN</td>\n",
              "      <td>Yes</td>\n",
              "      <td>10</td>\n",
              "      <td>22.0</td>\n",
              "      <td>Male</td>\n",
              "      <td>United States of America</td>\n",
              "    </tr>\n",
              "    <tr>\n",
              "      <th>4</th>\n",
              "      <td>1</td>\n",
              "      <td>NaN</td>\n",
              "      <td>NaN</td>\n",
              "      <td>NaN</td>\n",
              "      <td>NaN</td>\n",
              "      <td>NaN</td>\n",
              "      <td>NaN</td>\n",
              "      <td>0.0</td>\n",
              "      <td>No</td>\n",
              "      <td>10</td>\n",
              "      <td>52.0</td>\n",
              "      <td>female</td>\n",
              "      <td>United States of America</td>\n",
              "    </tr>\n",
              "    <tr>\n",
              "      <th>5</th>\n",
              "      <td>0</td>\n",
              "      <td>1.0</td>\n",
              "      <td>0.0</td>\n",
              "      <td>Yes</td>\n",
              "      <td>I don't know</td>\n",
              "      <td>0.0</td>\n",
              "      <td>0.0</td>\n",
              "      <td>NaN</td>\n",
              "      <td>No</td>\n",
              "      <td>5</td>\n",
              "      <td>30.0</td>\n",
              "      <td>male</td>\n",
              "      <td>United States of America</td>\n",
              "    </tr>\n",
              "    <tr>\n",
              "      <th>6</th>\n",
              "      <td>0</td>\n",
              "      <td>1.0</td>\n",
              "      <td>1.0</td>\n",
              "      <td>Yes</td>\n",
              "      <td>No</td>\n",
              "      <td>0.0</td>\n",
              "      <td>1.0</td>\n",
              "      <td>NaN</td>\n",
              "      <td>Yes</td>\n",
              "      <td>8</td>\n",
              "      <td>36.0</td>\n",
              "      <td>F</td>\n",
              "      <td>United States of America</td>\n",
              "    </tr>\n",
              "    <tr>\n",
              "      <th>7</th>\n",
              "      <td>0</td>\n",
              "      <td>1.0</td>\n",
              "      <td>1.0</td>\n",
              "      <td>Yes</td>\n",
              "      <td>No</td>\n",
              "      <td>0.0</td>\n",
              "      <td>0.0</td>\n",
              "      <td>NaN</td>\n",
              "      <td>No</td>\n",
              "      <td>3</td>\n",
              "      <td>38.0</td>\n",
              "      <td>Female</td>\n",
              "      <td>United States of America</td>\n",
              "    </tr>\n",
              "    <tr>\n",
              "      <th>8</th>\n",
              "      <td>0</td>\n",
              "      <td>0.0</td>\n",
              "      <td>1.0</td>\n",
              "      <td>I don't know</td>\n",
              "      <td>No</td>\n",
              "      <td>0.0</td>\n",
              "      <td>0.0</td>\n",
              "      <td>NaN</td>\n",
              "      <td>Don't Know</td>\n",
              "      <td>6</td>\n",
              "      <td>35.0</td>\n",
              "      <td>Male</td>\n",
              "      <td>Switzerland</td>\n",
              "    </tr>\n",
              "    <tr>\n",
              "      <th>9</th>\n",
              "      <td>1</td>\n",
              "      <td>NaN</td>\n",
              "      <td>NaN</td>\n",
              "      <td>NaN</td>\n",
              "      <td>NaN</td>\n",
              "      <td>NaN</td>\n",
              "      <td>NaN</td>\n",
              "      <td>1.0</td>\n",
              "      <td>Possibly</td>\n",
              "      <td>4</td>\n",
              "      <td>36.0</td>\n",
              "      <td>male</td>\n",
              "      <td>India</td>\n",
              "    </tr>\n",
              "  </tbody>\n",
              "</table>\n",
              "</div>\n",
              "      <button class=\"colab-df-convert\" onclick=\"convertToInteractive('df-d46951b3-883c-481d-8ecc-d85c774468de')\"\n",
              "              title=\"Convert this dataframe to an interactive table.\"\n",
              "              style=\"display:none;\">\n",
              "        \n",
              "  <svg xmlns=\"http://www.w3.org/2000/svg\" height=\"24px\"viewBox=\"0 0 24 24\"\n",
              "       width=\"24px\">\n",
              "    <path d=\"M0 0h24v24H0V0z\" fill=\"none\"/>\n",
              "    <path d=\"M18.56 5.44l.94 2.06.94-2.06 2.06-.94-2.06-.94-.94-2.06-.94 2.06-2.06.94zm-11 1L8.5 8.5l.94-2.06 2.06-.94-2.06-.94L8.5 2.5l-.94 2.06-2.06.94zm10 10l.94 2.06.94-2.06 2.06-.94-2.06-.94-.94-2.06-.94 2.06-2.06.94z\"/><path d=\"M17.41 7.96l-1.37-1.37c-.4-.4-.92-.59-1.43-.59-.52 0-1.04.2-1.43.59L10.3 9.45l-7.72 7.72c-.78.78-.78 2.05 0 2.83L4 21.41c.39.39.9.59 1.41.59.51 0 1.02-.2 1.41-.59l7.78-7.78 2.81-2.81c.8-.78.8-2.07 0-2.86zM5.41 20L4 18.59l7.72-7.72 1.47 1.35L5.41 20z\"/>\n",
              "  </svg>\n",
              "      </button>\n",
              "      \n",
              "  <style>\n",
              "    .colab-df-container {\n",
              "      display:flex;\n",
              "      flex-wrap:wrap;\n",
              "      gap: 12px;\n",
              "    }\n",
              "\n",
              "    .colab-df-convert {\n",
              "      background-color: #E8F0FE;\n",
              "      border: none;\n",
              "      border-radius: 50%;\n",
              "      cursor: pointer;\n",
              "      display: none;\n",
              "      fill: #1967D2;\n",
              "      height: 32px;\n",
              "      padding: 0 0 0 0;\n",
              "      width: 32px;\n",
              "    }\n",
              "\n",
              "    .colab-df-convert:hover {\n",
              "      background-color: #E2EBFA;\n",
              "      box-shadow: 0px 1px 2px rgba(60, 64, 67, 0.3), 0px 1px 3px 1px rgba(60, 64, 67, 0.15);\n",
              "      fill: #174EA6;\n",
              "    }\n",
              "\n",
              "    [theme=dark] .colab-df-convert {\n",
              "      background-color: #3B4455;\n",
              "      fill: #D2E3FC;\n",
              "    }\n",
              "\n",
              "    [theme=dark] .colab-df-convert:hover {\n",
              "      background-color: #434B5C;\n",
              "      box-shadow: 0px 1px 3px 1px rgba(0, 0, 0, 0.15);\n",
              "      filter: drop-shadow(0px 1px 2px rgba(0, 0, 0, 0.3));\n",
              "      fill: #FFFFFF;\n",
              "    }\n",
              "  </style>\n",
              "\n",
              "      <script>\n",
              "        const buttonEl =\n",
              "          document.querySelector('#df-d46951b3-883c-481d-8ecc-d85c774468de button.colab-df-convert');\n",
              "        buttonEl.style.display =\n",
              "          google.colab.kernel.accessAllowed ? 'block' : 'none';\n",
              "\n",
              "        async function convertToInteractive(key) {\n",
              "          const element = document.querySelector('#df-d46951b3-883c-481d-8ecc-d85c774468de');\n",
              "          const dataTable =\n",
              "            await google.colab.kernel.invokeFunction('convertToInteractive',\n",
              "                                                     [key], {});\n",
              "          if (!dataTable) return;\n",
              "\n",
              "          const docLinkHtml = 'Like what you see? Visit the ' +\n",
              "            '<a target=\"_blank\" href=https://colab.research.google.com/notebooks/data_table.ipynb>data table notebook</a>'\n",
              "            + ' to learn more about interactive tables.';\n",
              "          element.innerHTML = '';\n",
              "          dataTable['output_type'] = 'display_data';\n",
              "          await google.colab.output.renderOutput(dataTable, element);\n",
              "          const docLink = document.createElement('div');\n",
              "          docLink.innerHTML = docLinkHtml;\n",
              "          element.appendChild(docLink);\n",
              "        }\n",
              "      </script>\n",
              "    </div>\n",
              "  </div>\n",
              "  "
            ]
          },
          "metadata": {},
          "execution_count": 57
        }
      ],
      "source": [
        "data_df.head(10)"
      ]
    },
    {
      "cell_type": "markdown",
      "source": [
        "### Data Cleaning"
      ],
      "metadata": {
        "id": "Pv12Kpn3grKj"
      }
    },
    {
      "cell_type": "code",
      "execution_count": 58,
      "metadata": {
        "id": "FQrOOhmEM4Ka",
        "colab": {
          "base_uri": "https://localhost:8080/"
        },
        "outputId": "4d287dda-62f8-4a3b-a546-5cac538b5819"
      },
      "outputs": [
        {
          "output_type": "execute_result",
          "data": {
            "text/plain": [
              "self_employed                0\n",
              "mental_health                0\n",
              "mh_share                     0\n",
              "age                          2\n",
              "country                      2\n",
              "gender                      25\n",
              "tech_company               259\n",
              "tech_related_role          259\n",
              "benefits                   259\n",
              "workplace_resources        259\n",
              "mh_employer_discussion     259\n",
              "mh_coworker_discussion     264\n",
              "medical_coverage          1577\n",
              "dtype: int64"
            ]
          },
          "metadata": {},
          "execution_count": 58
        }
      ],
      "source": [
        "# lets check number of empty rows in data\n",
        "data_df.isna().sum().sort_values()"
      ]
    },
    {
      "cell_type": "markdown",
      "source": [
        "##### tech_related_role"
      ],
      "metadata": {
        "id": "cq5UfBRehJQr"
      }
    },
    {
      "cell_type": "code",
      "execution_count": 59,
      "metadata": {
        "id": "LCoj8PZOwYKj"
      },
      "outputs": [],
      "source": [
        "# Since we are targetting tech related employees, setting default input values will make incorrect analysis, hence removing the empty value rows \n",
        "data_df = data_df[data_df['tech_related_role'].notna()]"
      ]
    },
    {
      "cell_type": "code",
      "source": [
        "# Lets see the values in our interested column\n",
        "data_df['tech_related_role'].value_counts()"
      ],
      "metadata": {
        "colab": {
          "base_uri": "https://localhost:8080/"
        },
        "id": "RC5QXkpnf5T_",
        "outputId": "5345ee87-132c-4bd2-e45f-3f00785ca77a"
      },
      "execution_count": 60,
      "outputs": [
        {
          "output_type": "execute_result",
          "data": {
            "text/plain": [
              "1.0    1463\n",
              "0.0     114\n",
              "Name: tech_related_role, dtype: int64"
            ]
          },
          "metadata": {},
          "execution_count": 60
        }
      ]
    },
    {
      "cell_type": "code",
      "source": [
        "# Lets remove those records who do not have tech related job\n",
        "data_df.drop(data_df[data_df['tech_related_role'] == 0.0].index, inplace = True)\n",
        "\n",
        "# now since all of our data contains records who have tech related job, we can safely remove the column\n",
        "data_df.drop(columns = 'tech_related_role', inplace = True)\n"
      ],
      "metadata": {
        "id": "DvSYNqN0fnH7"
      },
      "execution_count": 61,
      "outputs": []
    },
    {
      "cell_type": "markdown",
      "source": [
        "##### gender"
      ],
      "metadata": {
        "id": "eU_pKoZwhMSb"
      }
    },
    {
      "cell_type": "code",
      "source": [
        "# Just 25 records with missing gender values, instead of removing, lets mark those as others.\n",
        "data_df['gender'] = data_df['gender'].fillna('Other')\n",
        "\n",
        "# format the records\n",
        "data_df['gender'] = data_df['gender'].str.lower().str.strip()"
      ],
      "metadata": {
        "id": "RudHNyWAhNU3"
      },
      "execution_count": 62,
      "outputs": []
    },
    {
      "cell_type": "code",
      "source": [
        "# Lets see the values in our interested column\n",
        "data_df['gender'].value_counts()"
      ],
      "metadata": {
        "colab": {
          "base_uri": "https://localhost:8080/"
        },
        "id": "LObzimEahdBK",
        "outputId": "4194ef0b-9435-4a7b-f689-cda941a47d0e"
      },
      "execution_count": 63,
      "outputs": [
        {
          "output_type": "execute_result",
          "data": {
            "text/plain": [
              "male                                   845\n",
              "female                                 336\n",
              "m                                       89\n",
              "f                                       51\n",
              "woman                                   18\n",
              "other                                   13\n",
              "cis male                                 8\n",
              "man                                      7\n",
              "nonbinary                                6\n",
              "non-binary                               5\n",
              "female (cis)                             4\n",
              "none                                     4\n",
              "non binary                               3\n",
              "agender                                  3\n",
              "cis woman                                2\n",
              "female (cisgender)                       2\n",
              "cisgender male                           2\n",
              "trans man                                2\n",
              "genderfluid                              2\n",
              "cis-male                                 2\n",
              "masculine                                2\n",
              "cis female                               2\n",
              "cis-female                               2\n",
              "genderqueer                              2\n",
              "trans non-binary/genderfluid             1\n",
              "make                                     1\n",
              "trans female                             1\n",
              "homem cis                                1\n",
              "she/her/they/them                        1\n",
              "swm                                      1\n",
              "cisgender female                         1\n",
              "male/he/him                              1\n",
              "nb                                       1\n",
              "nonbinary/femme                          1\n",
              "gender non-conforming woman              1\n",
              "b                                        1\n",
              "let's keep it simple and say \"male\"      1\n",
              "identify as male                         1\n",
              "afab non-binary                          1\n",
              "mostly male                              1\n",
              "cishet male                              1\n",
              "demiguy                                  1\n",
              "female, she/her                          1\n",
              "femile                                   1\n",
              "agender trans woman                      1\n",
              "femmina                                  1\n",
              "masculino                                1\n",
              "questioning                              1\n",
              "male (cis)                               1\n",
              "trans woman                              1\n",
              "cisgendered woman                        1\n",
              "femail                                   1\n",
              "god king of the valajar                  1\n",
              "femalw                                   1\n",
              "my sex is female.                        1\n",
              "cis hetero male                          1\n",
              "agender/genderfluid                      1\n",
              "male-ish                                 1\n",
              "sometimes                                1\n",
              "contextual                               1\n",
              "mail                                     1\n",
              "genderqueer demigirl                     1\n",
              "genderqueer/non-binary                   1\n",
              "f, cisgender                             1\n",
              "\\-                                       1\n",
              "transfeminine                            1\n",
              "dude                                     1\n",
              "ostensibly male                          1\n",
              "male, born with xy chromosoms            1\n",
              "i identify as female                     1\n",
              "*shrug emoji* (f)                        1\n",
              "transgender                              1\n",
              "female/gender non-binary.                1\n",
              "uhhhhhhhhh fem genderqueer?              1\n",
              "non-binary/agender                       1\n",
              "Name: gender, dtype: int64"
            ]
          },
          "metadata": {},
          "execution_count": 63
        }
      ]
    },
    {
      "cell_type": "code",
      "source": [
        "# a lot of inconsistent records exists in our gender, lets break all these in our required groups.\n",
        "\n",
        "gender_male = ['male', 'm', 'man', 'male/he/him', 'let\\'s keep it simple and say \\\"male\\\"', 'mostly male', 'masculine', 'identify as male', 'masculino', 'cishet male', 'cis male', 'mail', 'male-ish', 'cis-male', 'male (cis)', 'cis hetero male', 'dude', 'cisgender male', 'male, born with xy chromosoms', 'swm', 'ostensibly male']\n",
        "gender_female = ['female', 'f', 'woman', 'female, she/her', 'femile', 'female (cis)', 'f, cisgender', 'cisgendered woman', 'femmina', 'cis female', 'cis woman', 'cis-female', 'genderqueer demigirl', 'female (cisgender)', 'my sex is female.', 'femail', 'femalw', 'nonbinary/femme', 'cisgender female', 'she/her/they/them', '*shrug emoji* (f)',  'female/gender non-binary.', 'i identify as female']\n",
        "gender_other = ['agender', 'nonbinary', 'nb', 'b', 'gender non-conforming woman', 'demiguy', 'trans non-binary/genderfluid', 'other', 'afab non-binary', 'sometimes', 'questioning', 'none', 'trans man', 'trans woman', 'trans female', 'non-binary/agender', 'make', 'agender trans woman', 'transfeminine', '\\-', 'genderqueer/non-binary', 'non binary', 'contextual', 'agender/genderfluid', 'non-binary', 'genderfluid', 'god king of the valajar', 'uhhhhhhhhh fem genderqueer?', 'transgender', 'genderqueer', 'homem cis']\n",
        "\n",
        "# lets transfor gender in simpler form\n",
        "data_df['gender'] = data_df['gender'].replace(gender_male, 'Male')\n",
        "data_df['gender'] = data_df['gender'].replace(gender_female, 'Female')\n",
        "data_df['gender'] = data_df['gender'].replace(gender_other, 'Other')\n",
        "\n",
        "# lets check records now\n",
        "data_df['gender'].value_counts()\n",
        "\n"
      ],
      "metadata": {
        "colab": {
          "base_uri": "https://localhost:8080/"
        },
        "id": "eCg03aD6hspl",
        "outputId": "82d0a31e-a1fc-4656-a862-a6aa5e103899"
      },
      "execution_count": 64,
      "outputs": [
        {
          "output_type": "execute_result",
          "data": {
            "text/plain": [
              "Male      969\n",
              "Female    432\n",
              "Other      62\n",
              "Name: gender, dtype: int64"
            ]
          },
          "metadata": {},
          "execution_count": 64
        }
      ]
    },
    {
      "cell_type": "markdown",
      "source": [
        "#### benefits"
      ],
      "metadata": {
        "id": "WMr4DdjjOBXE"
      }
    },
    {
      "cell_type": "code",
      "source": [
        "# lets check number of empty rows in data again\n",
        "data_df.isna().sum().sort_values()"
      ],
      "metadata": {
        "colab": {
          "base_uri": "https://localhost:8080/"
        },
        "id": "cDOg6KaWUXjd",
        "outputId": "507540e3-343d-4565-9627-29740734bfad"
      },
      "execution_count": 65,
      "outputs": [
        {
          "output_type": "execute_result",
          "data": {
            "text/plain": [
              "self_employed                0\n",
              "tech_company                 0\n",
              "benefits                     0\n",
              "workplace_resources          0\n",
              "mh_employer_discussion       0\n",
              "mental_health                0\n",
              "mh_share                     0\n",
              "age                          0\n",
              "gender                       0\n",
              "country                      0\n",
              "mh_coworker_discussion       3\n",
              "medical_coverage          1463\n",
              "dtype: int64"
            ]
          },
          "metadata": {},
          "execution_count": 65
        }
      ]
    },
    {
      "cell_type": "code",
      "source": [
        "# we dont have any missing rows now, lets first see what are different values present\n",
        "data_df['benefits'].value_counts()"
      ],
      "metadata": {
        "colab": {
          "base_uri": "https://localhost:8080/"
        },
        "id": "-sOOG1XFOCTK",
        "outputId": "83990678-d14d-46c9-907d-d232e45ff05b"
      },
      "execution_count": 66,
      "outputs": [
        {
          "output_type": "execute_result",
          "data": {
            "text/plain": [
              "Yes                               784\n",
              "I don't know                      389\n",
              "No                                222\n",
              "Not eligible for coverage / NA     68\n",
              "Name: benefits, dtype: int64"
            ]
          },
          "metadata": {},
          "execution_count": 66
        }
      ]
    },
    {
      "cell_type": "code",
      "source": [
        "# Not eligible for coverage / NA is same as No. Lets update\n",
        "data_df.loc[data_df['benefits'] == 'Not eligible for coverage / NA' , 'benefits'] = 'No'\n",
        "\n",
        "data_df['benefits'].value_counts()"
      ],
      "metadata": {
        "colab": {
          "base_uri": "https://localhost:8080/"
        },
        "id": "SZjUAvoTOMEF",
        "outputId": "b9aadfe6-623a-420a-9816-1f7fc2db670a"
      },
      "execution_count": 67,
      "outputs": [
        {
          "output_type": "execute_result",
          "data": {
            "text/plain": [
              "Yes             784\n",
              "I don't know    389\n",
              "No              290\n",
              "Name: benefits, dtype: int64"
            ]
          },
          "metadata": {},
          "execution_count": 67
        }
      ]
    },
    {
      "cell_type": "markdown",
      "source": [
        "#### workplace_resources"
      ],
      "metadata": {
        "id": "CSXe1Vwuq5gs"
      }
    },
    {
      "cell_type": "code",
      "source": [
        "data_df['workplace_resources'].value_counts()"
      ],
      "metadata": {
        "colab": {
          "base_uri": "https://localhost:8080/"
        },
        "id": "GM8j2Cr9qugt",
        "outputId": "b069d707-8039-4dac-acf0-0e4459deb987"
      },
      "execution_count": 68,
      "outputs": [
        {
          "output_type": "execute_result",
          "data": {
            "text/plain": [
              "No              626\n",
              "Yes             455\n",
              "I don't know    382\n",
              "Name: workplace_resources, dtype: int64"
            ]
          },
          "metadata": {},
          "execution_count": 68
        }
      ]
    },
    {
      "cell_type": "markdown",
      "source": [
        "No ambiguity in `workplace_resources` column."
      ],
      "metadata": {
        "id": "YgqdTaOnq_RR"
      }
    },
    {
      "cell_type": "markdown",
      "source": [
        "#### mh_employer_discussion"
      ],
      "metadata": {
        "id": "uI_AgWl_x54r"
      }
    },
    {
      "cell_type": "code",
      "source": [
        "data_df['mh_employer_discussion'].value_counts()"
      ],
      "metadata": {
        "colab": {
          "base_uri": "https://localhost:8080/"
        },
        "id": "s1IA8oSfx1FP",
        "outputId": "0127e050-dc0a-4507-de71-95d90b91dcac"
      },
      "execution_count": 69,
      "outputs": [
        {
          "output_type": "execute_result",
          "data": {
            "text/plain": [
              "0.0    1010\n",
              "1.0     453\n",
              "Name: mh_employer_discussion, dtype: int64"
            ]
          },
          "metadata": {},
          "execution_count": 69
        }
      ]
    },
    {
      "cell_type": "markdown",
      "source": [
        "#### mh_coworker_discussion"
      ],
      "metadata": {
        "id": "AYM9kZsn3uex"
      }
    },
    {
      "cell_type": "code",
      "source": [
        "data_df['mh_coworker_discussion'].value_counts()"
      ],
      "metadata": {
        "colab": {
          "base_uri": "https://localhost:8080/"
        },
        "id": "iZTLHLPa3fB5",
        "outputId": "7318c8b0-92ae-420f-c339-b8a1dca415e9"
      },
      "execution_count": 70,
      "outputs": [
        {
          "output_type": "execute_result",
          "data": {
            "text/plain": [
              "0.0    824\n",
              "1.0    636\n",
              "Name: mh_coworker_discussion, dtype: int64"
            ]
          },
          "metadata": {},
          "execution_count": 70
        }
      ]
    },
    {
      "cell_type": "markdown",
      "source": [
        "#### medical_coverage"
      ],
      "metadata": {
        "id": "yyYRuWngVgrp"
      }
    },
    {
      "cell_type": "code",
      "source": [
        "# lets check number of empty rows in data again\n",
        "data_df.isna().sum().sort_values()"
      ],
      "metadata": {
        "colab": {
          "base_uri": "https://localhost:8080/"
        },
        "id": "9DYkOiZQVWG5",
        "outputId": "dcea6657-2234-4b41-e5d9-8262d86cb134"
      },
      "execution_count": 71,
      "outputs": [
        {
          "output_type": "execute_result",
          "data": {
            "text/plain": [
              "self_employed                0\n",
              "tech_company                 0\n",
              "benefits                     0\n",
              "workplace_resources          0\n",
              "mh_employer_discussion       0\n",
              "mental_health                0\n",
              "mh_share                     0\n",
              "age                          0\n",
              "gender                       0\n",
              "country                      0\n",
              "mh_coworker_discussion       3\n",
              "medical_coverage          1463\n",
              "dtype: int64"
            ]
          },
          "metadata": {},
          "execution_count": 71
        }
      ]
    },
    {
      "cell_type": "code",
      "source": [
        "# we have almost all records missing for very important field, lets see what values we have\n",
        "data_df['medical_coverage'].value_counts()"
      ],
      "metadata": {
        "colab": {
          "base_uri": "https://localhost:8080/"
        },
        "id": "J6apq0qUVjaO",
        "outputId": "af59ed32-2e89-4570-c234-7df4563ba1f8"
      },
      "execution_count": 72,
      "outputs": [
        {
          "output_type": "execute_result",
          "data": {
            "text/plain": [
              "Series([], Name: medical_coverage, dtype: int64)"
            ]
          },
          "metadata": {},
          "execution_count": 72
        }
      ]
    },
    {
      "cell_type": "code",
      "source": [
        "# So, all of the records are missing :/ \n",
        "# lets try to fill this column\n",
        "\n",
        "# If a company is providing them health benefits, that means they have a medical coverage.\n",
        "data_df.loc[data_df['benefits'] == 'Yes', 'medical_coverage'] = 'Yes'\n",
        "\n",
        "# Accoridng to law from UK, all employees are covered for medical health, so lets update all residents who reside in UK.\n",
        "data_df.loc[data_df['country'] == 'United Kingdom', 'medical_coverage'] = 'Yes'\n",
        "\n",
        "# According to OECD-ilibrary.org, following countries have 100% record for individuals with health benefits, so lets update those as well. (Germany, Canada, France, Spain, Netherlands)\n",
        "countries = ['Germany', 'Canada', 'France', 'Spain', 'Netherlands']\n",
        "data_df.loc[(data_df['country'].isin(countries)), 'medical_coverage'] = 'Yes'\n",
        "\n",
        "# Lets check how many null values we have now\n",
        "data_df['medical_coverage'].isna().sum()\n"
      ],
      "metadata": {
        "colab": {
          "base_uri": "https://localhost:8080/"
        },
        "id": "TcAMCil3Vtjr",
        "outputId": "bb69b63c-8bd5-4217-bb23-5ce168190441"
      },
      "execution_count": 73,
      "outputs": [
        {
          "output_type": "execute_result",
          "data": {
            "text/plain": [
              "533"
            ]
          },
          "metadata": {},
          "execution_count": 73
        }
      ]
    },
    {
      "cell_type": "code",
      "source": [
        "# According to OECD-ilibrary.org, USA has 90% medical coverage, so lets make sure we assign YES to max 90% records from USA.\n",
        "total_us = data_df.loc[data_df['country'] == 'United States of America']\n",
        "no_coverage_us = data_df.loc[(data_df['medical_coverage'].isna()) & (data_df['country'] == 'United States of America')]\n",
        "\n",
        "print('Total USA residents :{}'.format(len(total_us)))\n",
        "print('USA residents that does not have medical coverage :{}'.format(len(no_coverage_us)))\n",
        "print('Uninsured: ' + str(round(100*((len(no_coverage_us)) / (len(total_us))), 2)) + '%')\n"
      ],
      "metadata": {
        "colab": {
          "base_uri": "https://localhost:8080/"
        },
        "id": "jwPvIGtMaEme",
        "outputId": "d172aea2-e96e-4204-b30b-75a43f82e282"
      },
      "execution_count": 74,
      "outputs": [
        {
          "output_type": "stream",
          "name": "stdout",
          "text": [
            "Total USA residents :950\n",
            "USA residents that does not have medical coverage :315\n",
            "Uninsured: 33.16%\n"
          ]
        }
      ]
    },
    {
      "cell_type": "code",
      "source": [
        "# So overall we can see we have 33% of US residents who have missing info about their medical coverage, but according to survey it should be around 10%. \n",
        "# So lets randomaly assign these residents so that it is reduced to 10%\n",
        "\n",
        "# total us = 950, 10% = 95, so lets set 95 residents as no, all others to yes\n",
        "no_coverage_us_list = list(no_coverage_us.index)\n",
        "\n",
        "import random\n",
        "sample = random.sample(no_coverage_us_list, 95)\n",
        "(sample.sort())\n",
        "\n",
        "data_df.at[sample , 'medical_coverage'] = 'No'\n",
        "data_df.loc[(data_df['country'] == 'United States of America') & (data_df['medical_coverage'].isna()) , 'medical_coverage'] = 'Yes'\n",
        "\n",
        "# Lets check how many null values we have now\n",
        "data_df['medical_coverage'].isna().sum()"
      ],
      "metadata": {
        "colab": {
          "base_uri": "https://localhost:8080/"
        },
        "id": "wkQXY9uDaM8c",
        "outputId": "fd392172-53e7-4142-94a5-358cca7387b2"
      },
      "execution_count": 75,
      "outputs": [
        {
          "output_type": "execute_result",
          "data": {
            "text/plain": [
              "218"
            ]
          },
          "metadata": {},
          "execution_count": 75
        }
      ]
    },
    {
      "cell_type": "code",
      "source": [
        "data_df.isna().sum().sort_values()"
      ],
      "metadata": {
        "colab": {
          "base_uri": "https://localhost:8080/"
        },
        "id": "Z7LtzazIfxPp",
        "outputId": "b929bd49-5a98-404c-9012-6b7ca77e08c8"
      },
      "execution_count": 76,
      "outputs": [
        {
          "output_type": "execute_result",
          "data": {
            "text/plain": [
              "self_employed               0\n",
              "tech_company                0\n",
              "benefits                    0\n",
              "workplace_resources         0\n",
              "mh_employer_discussion      0\n",
              "mental_health               0\n",
              "mh_share                    0\n",
              "age                         0\n",
              "gender                      0\n",
              "country                     0\n",
              "mh_coworker_discussion      3\n",
              "medical_coverage          218\n",
              "dtype: int64"
            ]
          },
          "metadata": {},
          "execution_count": 76
        }
      ]
    },
    {
      "cell_type": "code",
      "source": [
        "# So now only 218 out of 1463 are missing, that's around 14.5%. Better to drop those records.\n",
        "data_df.dropna(inplace = True)\n",
        "\n",
        "data_df.isna().sum().sort_values()"
      ],
      "metadata": {
        "colab": {
          "base_uri": "https://localhost:8080/"
        },
        "id": "D4ZpujT5ffn3",
        "outputId": "6c4a9cd9-c67f-4da0-ff76-8b04c969485c"
      },
      "execution_count": 77,
      "outputs": [
        {
          "output_type": "execute_result",
          "data": {
            "text/plain": [
              "self_employed             0\n",
              "tech_company              0\n",
              "benefits                  0\n",
              "workplace_resources       0\n",
              "mh_employer_discussion    0\n",
              "mh_coworker_discussion    0\n",
              "medical_coverage          0\n",
              "mental_health             0\n",
              "mh_share                  0\n",
              "age                       0\n",
              "gender                    0\n",
              "country                   0\n",
              "dtype: int64"
            ]
          },
          "metadata": {},
          "execution_count": 77
        }
      ]
    },
    {
      "cell_type": "code",
      "source": [
        "# Now all missing data is fixed.\n",
        "# Lets see our total records now\n",
        "\n",
        "data_df.shape"
      ],
      "metadata": {
        "colab": {
          "base_uri": "https://localhost:8080/"
        },
        "id": "99HkI9eBVyLC",
        "outputId": "fcc19901-1ba0-4609-82fb-1413bbe112e2"
      },
      "execution_count": 78,
      "outputs": [
        {
          "output_type": "execute_result",
          "data": {
            "text/plain": [
              "(1242, 12)"
            ]
          },
          "metadata": {},
          "execution_count": 78
        }
      ]
    },
    {
      "cell_type": "markdown",
      "source": [
        "#### age"
      ],
      "metadata": {
        "id": "1OApQq7kgZtj"
      }
    },
    {
      "cell_type": "code",
      "source": [
        "# lets see what values we have\n",
        "data_df['age'].describe()"
      ],
      "metadata": {
        "colab": {
          "base_uri": "https://localhost:8080/"
        },
        "id": "haiw75vVgFaD",
        "outputId": "b61a7aa5-b201-4d54-f40b-5d089f651244"
      },
      "execution_count": 79,
      "outputs": [
        {
          "output_type": "execute_result",
          "data": {
            "text/plain": [
              "count    1242.000000\n",
              "mean       35.002415\n",
              "std         8.246748\n",
              "min         0.000000\n",
              "25%        29.000000\n",
              "50%        34.000000\n",
              "75%        40.000000\n",
              "max        66.000000\n",
              "Name: age, dtype: float64"
            ]
          },
          "metadata": {},
          "execution_count": 79
        }
      ]
    },
    {
      "cell_type": "code",
      "source": [
        "# We can see irregularites in age, lets try to address these\n",
        "\n",
        "# Get mean age\n",
        "mean_age = data_df[(data_df[\"age\"] >= 18) | (data_df[\"age\"] <= 75)][\"age\"].mean()\n",
        "\n",
        "# Replace irregular age numbers with mean value\n",
        "data_df[\"age\"].replace(to_replace = data_df[(data_df[\"age\"] < 18) | (data_df[\"age\"] > 75)][\"age\"].tolist(), value = mean_age, inplace = True)\n",
        "\n",
        "data_df['age'].describe()"
      ],
      "metadata": {
        "colab": {
          "base_uri": "https://localhost:8080/"
        },
        "id": "uv0ZDx8-gZNm",
        "outputId": "d666279b-1ef6-4996-f3c0-6cd25b36cde1"
      },
      "execution_count": 80,
      "outputs": [
        {
          "output_type": "execute_result",
          "data": {
            "text/plain": [
              "count    1242.000000\n",
              "mean       35.030598\n",
              "std         8.186624\n",
              "min        19.000000\n",
              "25%        29.000000\n",
              "50%        34.000000\n",
              "75%        40.000000\n",
              "max        66.000000\n",
              "Name: age, dtype: float64"
            ]
          },
          "metadata": {},
          "execution_count": 80
        }
      ]
    },
    {
      "cell_type": "markdown",
      "source": [
        "### Feature reduction"
      ],
      "metadata": {
        "id": "blFQNibrh61Y"
      }
    },
    {
      "cell_type": "markdown",
      "source": [
        "Lets do some feature reduction including re formating the values.\n",
        "- self_employed: From 0/1 to No/Yes\n",
        "- tech_company: From 0.0/1.0 to No/Yes\n",
        "- seek_help: From 0/1 to No/Yes\n",
        "- no_employees: 'More than 1000' to '>1000'\n",
        "- mh_employer_discussion: From 0.0/1.0 to No/Yes\n",
        "- mh_coworker_discussion: From 0.0/1.0 to No/Yes"
      ],
      "metadata": {
        "id": "X_UNgBvjiaL6"
      }
    },
    {
      "cell_type": "code",
      "source": [
        "data_df['self_employed'] = data_df['self_employed'].replace({1 : 'Yes' , 0 : 'No'})\n",
        "data_df['tech_company'] = data_df['tech_company'].replace({1.0 : 'Yes' , 0.0 : 'No'})\n",
        "data_df['mh_employer_discussion'] = data_df['mh_employer_discussion'].replace({1.0 : 'Yes' , 0.0 : 'No'})\n",
        "data_df['mh_coworker_discussion'] = data_df['mh_coworker_discussion'].replace({1.0 : 'Yes' , 0.0 : 'No'})"
      ],
      "metadata": {
        "id": "Rw6nKQmSit5o"
      },
      "execution_count": 81,
      "outputs": []
    },
    {
      "cell_type": "code",
      "source": [
        "# Lets see our unique data types\n",
        "data_df.nunique()"
      ],
      "metadata": {
        "colab": {
          "base_uri": "https://localhost:8080/"
        },
        "id": "bgagbDmIg6F0",
        "outputId": "093370d6-a47a-470c-b611-a2c296e09a89"
      },
      "execution_count": 82,
      "outputs": [
        {
          "output_type": "execute_result",
          "data": {
            "text/plain": [
              "self_employed              1\n",
              "tech_company               2\n",
              "benefits                   3\n",
              "workplace_resources        3\n",
              "mh_employer_discussion     2\n",
              "mh_coworker_discussion     2\n",
              "medical_coverage           2\n",
              "mental_health              4\n",
              "mh_share                  11\n",
              "age                       49\n",
              "gender                     3\n",
              "country                   30\n",
              "dtype: int64"
            ]
          },
          "metadata": {},
          "execution_count": 82
        }
      ]
    },
    {
      "cell_type": "code",
      "source": [
        "# We can see we only have 1 unique in self_employed, lets see what it is.\n",
        "data_df['self_employed'].unique()"
      ],
      "metadata": {
        "colab": {
          "base_uri": "https://localhost:8080/"
        },
        "id": "eNzLMezrhwc4",
        "outputId": "17597703-e990-4b19-8874-c5b4951ef234"
      },
      "execution_count": 83,
      "outputs": [
        {
          "output_type": "execute_result",
          "data": {
            "text/plain": [
              "array(['No'], dtype=object)"
            ]
          },
          "metadata": {},
          "execution_count": 83
        }
      ]
    },
    {
      "cell_type": "code",
      "source": [
        "# So in our data, it can be observed that none of the respondents is self employed, so no need to keep this column. Lets drop this column.\n",
        "data_df.drop(columns = 'self_employed', inplace = True)"
      ],
      "metadata": {
        "id": "AE6BB8w_iJJS"
      },
      "execution_count": 84,
      "outputs": []
    },
    {
      "cell_type": "code",
      "source": [
        "data_df.info()"
      ],
      "metadata": {
        "colab": {
          "base_uri": "https://localhost:8080/"
        },
        "id": "1O-Ns4JOko4n",
        "outputId": "d1a5a5a7-415a-4696-a265-7721289808a3"
      },
      "execution_count": 85,
      "outputs": [
        {
          "output_type": "stream",
          "name": "stdout",
          "text": [
            "<class 'pandas.core.frame.DataFrame'>\n",
            "Int64Index: 1242 entries, 0 to 1831\n",
            "Data columns (total 11 columns):\n",
            " #   Column                  Non-Null Count  Dtype  \n",
            "---  ------                  --------------  -----  \n",
            " 0   tech_company            1242 non-null   object \n",
            " 1   benefits                1242 non-null   object \n",
            " 2   workplace_resources     1242 non-null   object \n",
            " 3   mh_employer_discussion  1242 non-null   object \n",
            " 4   mh_coworker_discussion  1242 non-null   object \n",
            " 5   medical_coverage        1242 non-null   object \n",
            " 6   mental_health           1242 non-null   object \n",
            " 7   mh_share                1242 non-null   int64  \n",
            " 8   age                     1242 non-null   float64\n",
            " 9   gender                  1242 non-null   object \n",
            " 10  country                 1242 non-null   object \n",
            "dtypes: float64(1), int64(1), object(9)\n",
            "memory usage: 116.4+ KB\n"
          ]
        }
      ]
    },
    {
      "cell_type": "markdown",
      "source": [
        "### Data Analysis / Visualization"
      ],
      "metadata": {
        "id": "OT1FrMZPlZZU"
      }
    },
    {
      "cell_type": "code",
      "source": [
        "colors = sns.color_palette('pastel')[0:5]"
      ],
      "metadata": {
        "id": "Ev-vDvZFLENd"
      },
      "execution_count": 86,
      "outputs": []
    },
    {
      "cell_type": "markdown",
      "source": [
        "#### age"
      ],
      "metadata": {
        "id": "_Bb1Y6ZrU8M8"
      }
    },
    {
      "cell_type": "code",
      "source": [
        "data_df['age'].describe()"
      ],
      "metadata": {
        "colab": {
          "base_uri": "https://localhost:8080/"
        },
        "id": "01qOzlnaiM_N",
        "outputId": "4625980e-0d6a-4c7f-c294-d4649760f9e0"
      },
      "execution_count": 87,
      "outputs": [
        {
          "output_type": "execute_result",
          "data": {
            "text/plain": [
              "count    1242.000000\n",
              "mean       35.030598\n",
              "std         8.186624\n",
              "min        19.000000\n",
              "25%        29.000000\n",
              "50%        34.000000\n",
              "75%        40.000000\n",
              "max        66.000000\n",
              "Name: age, dtype: float64"
            ]
          },
          "metadata": {},
          "execution_count": 87
        }
      ]
    },
    {
      "cell_type": "code",
      "source": [
        "# Proportions of Gender in tech industry\n",
        "data_df.groupby(['gender']).size().plot(kind = 'pie', autopct = '%1.1f%%', label = 'Proportions of Gender in tech industry', colors = colors)"
      ],
      "metadata": {
        "colab": {
          "base_uri": "https://localhost:8080/",
          "height": 265
        },
        "id": "z-5BV9XBWTaM",
        "outputId": "3a257633-f927-4529-bc27-21fa75fc049b"
      },
      "execution_count": 88,
      "outputs": [
        {
          "output_type": "execute_result",
          "data": {
            "text/plain": [
              "<matplotlib.axes._subplots.AxesSubplot at 0x7f27147921c0>"
            ]
          },
          "metadata": {},
          "execution_count": 88
        },
        {
          "output_type": "display_data",
          "data": {
            "text/plain": [
              "<Figure size 432x288 with 1 Axes>"
            ],
            "image/png": "[encoded data removed]"
          },
          "metadata": {}
        }
      ]
    },
    {
      "cell_type": "code",
      "source": [
        "male_with_mental_health = data_df[(data_df[\"mental_health\"] == 'Yes') & (data_df[\"gender\"] == 'Male')]\n",
        "female_with_mental_health = data_df[(data_df[\"mental_health\"] =='Yes') & (data_df[\"gender\"] == 'Female')]\n",
        "other_with_mental_health = data_df[(data_df[\"mental_health\"] =='Yes') & (data_df[\"gender\"] == 'Other')]\n",
        "\n",
        "sizes = [\n",
        "    male_with_mental_health['gender'].value_counts(),\n",
        "    female_with_mental_health['gender'].value_counts(),\n",
        "    other_with_mental_health['gender'].value_counts(),\n",
        "]\n",
        "labels = ['Male', 'Female', 'Other']\n",
        "\n",
        "fig1, ax1 = plt.subplots()\n",
        "fig1.suptitle('Gender w.r.t having mental health issues', fontsize=16)\n",
        "ax1.pie(sizes, labels = labels, autopct = '%1.1f%%', colors = colors)\n",
        "plt.show()"
      ],
      "metadata": {
        "colab": {
          "base_uri": "https://localhost:8080/",
          "height": 312
        },
        "id": "U8FFxfNdG23e",
        "outputId": "f9f4619e-d9d6-4076-86a0-5b8e4b872245"
      },
      "execution_count": 89,
      "outputs": [
        {
          "output_type": "stream",
          "name": "stderr",
          "text": [
            "<ipython-input-89-8486083049ff>:14: MatplotlibDeprecationWarning: Non-1D inputs to pie() are currently squeeze()d, but this behavior is deprecated since 3.1 and will be removed in 3.3; pass a 1D array instead.\n",
            "  ax1.pie(sizes, labels = labels, autopct = '%1.1f%%', colors = colors)\n"
          ]
        },
        {
          "output_type": "display_data",
          "data": {
            "text/plain": [
              "<Figure size 432x288 with 1 Axes>"
            ],
            "image/png": "[encoded data removed]"
          },
          "metadata": {}
        }
      ]
    },
    {
      "cell_type": "markdown",
      "source": [
        "Following observations can be derived from above.\n",
        "\n",
        "- Around 60% of male employes have mental health issues while 35% female are effected with mental illness. "
      ],
      "metadata": {
        "id": "C7cAx2-YNGVE"
      }
    },
    {
      "cell_type": "markdown",
      "source": [
        "#### Mental health distribution by age and gender"
      ],
      "metadata": {
        "id": "QXDeEchVhCuo"
      }
    },
    {
      "cell_type": "code",
      "source": [
        "data_df['mental_health'].describe()"
      ],
      "metadata": {
        "colab": {
          "base_uri": "https://localhost:8080/"
        },
        "id": "Zo0DgE8hhFtE",
        "outputId": "1c247829-bd33-4ed8-b7a8-1614c8572ba4"
      },
      "execution_count": 90,
      "outputs": [
        {
          "output_type": "execute_result",
          "data": {
            "text/plain": [
              "count     1242\n",
              "unique       4\n",
              "top        Yes\n",
              "freq       553\n",
              "Name: mental_health, dtype: object"
            ]
          },
          "metadata": {},
          "execution_count": 90
        }
      ]
    },
    {
      "cell_type": "code",
      "source": [
        "data_df.groupby(['mental_health']).size().plot(kind='pie', autopct='%1.0f%%', label='Have mental health issues?', colors = colors)"
      ],
      "metadata": {
        "colab": {
          "base_uri": "https://localhost:8080/",
          "height": 265
        },
        "id": "Wz5jKYVlT5kI",
        "outputId": "8e70ec39-7ac4-4944-b748-f6a786894ebf"
      },
      "execution_count": 91,
      "outputs": [
        {
          "output_type": "execute_result",
          "data": {
            "text/plain": [
              "<matplotlib.axes._subplots.AxesSubplot at 0x7f27149fb8b0>"
            ]
          },
          "metadata": {},
          "execution_count": 91
        },
        {
          "output_type": "display_data",
          "data": {
            "text/plain": [
              "<Figure size 432x288 with 1 Axes>"
            ],
            "image/png": "[encoded data removed]"
          },
          "metadata": {}
        }
      ]
    },
    {
      "cell_type": "code",
      "source": [
        "# It can be seen as mostly say Yes and mostly are Men in their 30s in our data. So lets plot them together to further analyze\n",
        "\n",
        "g = sns.FacetGrid(data_df, row = 'gender', col = 'mental_health', height = 4)\n",
        "g.map(plt.hist, 'age', bins = 20, alpha = 0.6)\n",
        "g.add_legend()\n",
        "plt.show()\n"
      ],
      "metadata": {
        "colab": {
          "base_uri": "https://localhost:8080/",
          "height": 873
        },
        "id": "qieow9ggibX7",
        "outputId": "73e0ab70-082f-4a11-cad3-faf130cc09a3"
      },
      "execution_count": 92,
      "outputs": [
        {
          "output_type": "display_data",
          "data": {
            "text/plain": [
              "<Figure size 1160x864 with 12 Axes>"
            ],
            "image/png": "[encoded data removed]"
          },
          "metadata": {}
        }
      ]
    },
    {
      "cell_type": "markdown",
      "source": [
        "Following observations can be derived from above.\n",
        "\n",
        "- Most Men in their 30s in our data have Mental health issues.\n",
        "- More female employees have mental health disorders than those who don't. \n",
        "- Mostly employees whose gender falls under 'Others' catgory hav less to no mental health issues.\n",
        "- 67% of employees are effected with mental illness overall.\n",
        "\n"
      ],
      "metadata": {
        "id": "_lsQ6G4MjlPH"
      }
    },
    {
      "cell_type": "markdown",
      "source": [
        "#### Are companies taking Mental Health issues seriously?\n"
      ],
      "metadata": {
        "id": "iCpqgSOMOthe"
      }
    },
    {
      "cell_type": "code",
      "source": [
        "data_df.groupby(['benefits']).size().plot(kind = 'pie', autopct = '%1.1f%%', label = 'MH Coverage Provided? ', colors = colors)"
      ],
      "metadata": {
        "colab": {
          "base_uri": "https://localhost:8080/",
          "height": 265
        },
        "id": "icsV6JcFQQf0",
        "outputId": "7fbb129b-c112-49c3-8cca-bb0cabc9fac6"
      },
      "execution_count": 93,
      "outputs": [
        {
          "output_type": "execute_result",
          "data": {
            "text/plain": [
              "<matplotlib.axes._subplots.AxesSubplot at 0x7f2714a91ac0>"
            ]
          },
          "metadata": {},
          "execution_count": 93
        },
        {
          "output_type": "display_data",
          "data": {
            "text/plain": [
              "<Figure size 432x288 with 1 Axes>"
            ],
            "image/png": "[encoded data removed]"
          },
          "metadata": {}
        }
      ]
    },
    {
      "cell_type": "code",
      "source": [
        "data_df.groupby(['workplace_resources']).size().plot(kind = 'pie', autopct = '%1.1f%%', label = 'MH Resources Provided? ', colors = colors)"
      ],
      "metadata": {
        "colab": {
          "base_uri": "https://localhost:8080/",
          "height": 265
        },
        "id": "3_JEjmcLrrAO",
        "outputId": "258fec58-6dc6-47b0-d1af-e7e67389d9ab"
      },
      "execution_count": 94,
      "outputs": [
        {
          "output_type": "execute_result",
          "data": {
            "text/plain": [
              "<matplotlib.axes._subplots.AxesSubplot at 0x7f271484fa30>"
            ]
          },
          "metadata": {},
          "execution_count": 94
        },
        {
          "output_type": "display_data",
          "data": {
            "text/plain": [
              "<Figure size 432x288 with 1 Axes>"
            ],
            "image/png": "[encoded data removed]"
          },
          "metadata": {}
        }
      ]
    },
    {
      "cell_type": "markdown",
      "source": [
        "Following observations can be derived from above.\n",
        "\n",
        "- More than 60% employee have medical coverage provided from employer, but not the resources to get more information, suggesting that companies do not get active involvement.\n",
        "- Around 12% employee do not have medical coverage."
      ],
      "metadata": {
        "id": "Ytg3zsi4RKJJ"
      }
    },
    {
      "cell_type": "markdown",
      "source": [
        "#### How easy is discussing Mental Health at Work?\n"
      ],
      "metadata": {
        "id": "jQXEkToURlqA"
      }
    },
    {
      "cell_type": "code",
      "source": [
        "data_df.groupby(['mh_employer_discussion']).size().plot(kind = 'pie', autopct = '%1.1f%%', label = 'Discuss MH with Employer? ', colors = colors)"
      ],
      "metadata": {
        "colab": {
          "base_uri": "https://localhost:8080/",
          "height": 265
        },
        "id": "_Q2p-sxG2Jeh",
        "outputId": "3cd16f0b-587c-423b-b2e8-a3ed15081caf"
      },
      "execution_count": 95,
      "outputs": [
        {
          "output_type": "execute_result",
          "data": {
            "text/plain": [
              "<matplotlib.axes._subplots.AxesSubplot at 0x7f27148d3700>"
            ]
          },
          "metadata": {},
          "execution_count": 95
        },
        {
          "output_type": "display_data",
          "data": {
            "text/plain": [
              "<Figure size 432x288 with 1 Axes>"
            ],
            "image/png": "[encoded data removed]"
          },
          "metadata": {}
        }
      ]
    },
    {
      "cell_type": "code",
      "source": [
        "male_has_mh_and_not_discussed = data_df[(data_df[\"mental_health\"] == 'Yes') & (data_df[\"gender\"] == 'Male') & (data_df[\"mh_employer_discussion\"] == 'No')]\n",
        "female_has_mh_and_not_discussed = data_df[(data_df[\"mental_health\"] =='Yes') & (data_df[\"gender\"] == 'Female') & (data_df[\"mh_employer_discussion\"] == 'No')]\n",
        "other_has_mh_and_not_discussed = data_df[(data_df[\"mental_health\"] =='Yes') & (data_df[\"gender\"] == 'Other') & (data_df[\"mh_employer_discussion\"] == 'No')]\n",
        "\n",
        "sizes = [\n",
        "    male_has_mh_and_not_discussed['gender'].value_counts(),\n",
        "    female_has_mh_and_not_discussed['gender'].value_counts(),\n",
        "    other_has_mh_and_not_discussed['gender'].value_counts(),\n",
        "]\n",
        "labels = ['Male', 'Female', 'Other']\n",
        "\n",
        "fig1, ax1 = plt.subplots()\n",
        "fig1.suptitle('Gender w.r.t having MH and not discuss with employer', fontsize=16)\n",
        "ax1.pie(sizes, labels = labels, autopct = '%1.1f%%', colors = colors)\n",
        "plt.show()"
      ],
      "metadata": {
        "id": "vy7MOXYZSwLx",
        "colab": {
          "base_uri": "https://localhost:8080/",
          "height": 312
        },
        "outputId": "9866f620-56e0-44d9-b193-acaf4b61e051"
      },
      "execution_count": 96,
      "outputs": [
        {
          "output_type": "stream",
          "name": "stderr",
          "text": [
            "<ipython-input-96-6c9fb5b83680>:14: MatplotlibDeprecationWarning: Non-1D inputs to pie() are currently squeeze()d, but this behavior is deprecated since 3.1 and will be removed in 3.3; pass a 1D array instead.\n",
            "  ax1.pie(sizes, labels = labels, autopct = '%1.1f%%', colors = colors)\n"
          ]
        },
        {
          "output_type": "display_data",
          "data": {
            "text/plain": [
              "<Figure size 432x288 with 1 Axes>"
            ],
            "image/png": "[encoded data removed]"
          },
          "metadata": {}
        }
      ]
    },
    {
      "cell_type": "code",
      "source": [
        "data_df.groupby(['mh_coworker_discussion']).size().plot(kind = 'pie', autopct = '%1.1f%%', label = 'Discuss MH with Co-workers?? ', colors = colors)"
      ],
      "metadata": {
        "colab": {
          "base_uri": "https://localhost:8080/",
          "height": 265
        },
        "id": "gl-damNL2w1I",
        "outputId": "c93e3c89-850b-40a8-aacf-b1e15612104e"
      },
      "execution_count": 97,
      "outputs": [
        {
          "output_type": "execute_result",
          "data": {
            "text/plain": [
              "<matplotlib.axes._subplots.AxesSubplot at 0x7f2714923af0>"
            ]
          },
          "metadata": {},
          "execution_count": 97
        },
        {
          "output_type": "display_data",
          "data": {
            "text/plain": [
              "<Figure size 432x288 with 1 Axes>"
            ],
            "image/png": "[encoded data removed]"
          },
          "metadata": {}
        }
      ]
    },
    {
      "cell_type": "code",
      "source": [
        "male_has_mh_and_not_discussed = data_df[(data_df[\"mental_health\"] == 'Yes') & (data_df[\"gender\"] == 'Male') & (data_df[\"mh_coworker_discussion\"] == 'Yes')]\n",
        "female_has_mh_and_not_discussed = data_df[(data_df[\"mental_health\"] =='Yes') & (data_df[\"gender\"] == 'Female') & (data_df[\"mh_coworker_discussion\"] == 'Yes')]\n",
        "other_has_mh_and_not_discussed = data_df[(data_df[\"mental_health\"] =='Yes') & (data_df[\"gender\"] == 'Other') & (data_df[\"mh_coworker_discussion\"] == 'Yes')]\n",
        "\n",
        "sizes = [\n",
        "    male_has_mh_and_not_discussed['gender'].value_counts(),\n",
        "    female_has_mh_and_not_discussed['gender'].value_counts(),\n",
        "    other_has_mh_and_not_discussed['gender'].value_counts(),\n",
        "]\n",
        "labels = ['Male', 'Female', 'Other']\n",
        "\n",
        "fig1, ax1 = plt.subplots()\n",
        "fig1.suptitle('Gender w.r.t having MH and discuss with co worker', fontsize=16)\n",
        "ax1.pie(sizes, labels = labels, autopct = '%1.1f%%', colors = colors)\n",
        "plt.show()"
      ],
      "metadata": {
        "colab": {
          "base_uri": "https://localhost:8080/",
          "height": 312
        },
        "id": "PAJ2l-Ma5aP0",
        "outputId": "4b205585-0b3b-4f15-817c-7175eca71ab7"
      },
      "execution_count": 98,
      "outputs": [
        {
          "output_type": "stream",
          "name": "stderr",
          "text": [
            "<ipython-input-98-902f1f960753>:14: MatplotlibDeprecationWarning: Non-1D inputs to pie() are currently squeeze()d, but this behavior is deprecated since 3.1 and will be removed in 3.3; pass a 1D array instead.\n",
            "  ax1.pie(sizes, labels = labels, autopct = '%1.1f%%', colors = colors)\n"
          ]
        },
        {
          "output_type": "display_data",
          "data": {
            "text/plain": [
              "<Figure size 432x288 with 1 Axes>"
            ],
            "image/png": "[encoded data removed]"
          },
          "metadata": {}
        }
      ]
    },
    {
      "cell_type": "code",
      "source": [
        "g = sns.FacetGrid(data_df, row = 'mh_employer_discussion', col = 'mh_coworker_discussion', height = 6)\n",
        "g.map(plt.hist, 'mental_health', bins = 8, alpha = 0.6)\n",
        "g.add_legend()\n",
        "plt.show()\n"
      ],
      "metadata": {
        "colab": {
          "base_uri": "https://localhost:8080/",
          "height": 873
        },
        "id": "dTAtTVOJ_wuO",
        "outputId": "879c5f5c-a0e2-46ea-817c-8caeb5bbba9e"
      },
      "execution_count": 99,
      "outputs": [
        {
          "output_type": "display_data",
          "data": {
            "text/plain": [
              "<Figure size 872x864 with 4 Axes>"
            ],
            "image/png": "[encoded data removed]"
          },
          "metadata": {}
        }
      ]
    },
    {
      "cell_type": "markdown",
      "source": [
        "Following observations can be derived from above.\n",
        "\n",
        "- Overall 67% feel difficult to discuss the MH issues with employer, hence never discussed.\n",
        "\n",
        "- Out of those, around 60% male who have active mental health issues have not discussed with their current employer.\n",
        "\n",
        "- More than half (50%) males who have mental health issues have discussed with their co-workes.\n",
        "\n",
        "- Almost all who have MH and discussed with employer have openly discuss with co workers, while there are a lot of those who have not discuss with employer but have discussd with co worker, suggesting they ar affraid of negative consequences."
      ],
      "metadata": {
        "id": "nXhIFtgR2L81"
      }
    },
    {
      "cell_type": "markdown",
      "source": [
        "#### How easy is to discuss openly about Mental Health with friends/family?"
      ],
      "metadata": {
        "id": "gKOvI9txSHZ4"
      }
    },
    {
      "cell_type": "code",
      "source": [
        "plt.hist(data_df['mh_share'], bins=24, color = \"skyblue\")\n",
        "plt.show()\n"
      ],
      "metadata": {
        "id": "eSsBwcJOQQdX",
        "colab": {
          "base_uri": "https://localhost:8080/",
          "height": 265
        },
        "outputId": "c1849c98-a4dd-414d-83cd-02e38272110d"
      },
      "execution_count": 100,
      "outputs": [
        {
          "output_type": "display_data",
          "data": {
            "text/plain": [
              "<Figure size 432x288 with 1 Axes>"
            ],
            "image/png": "[encoded data removed]"
          },
          "metadata": {}
        }
      ]
    },
    {
      "cell_type": "markdown",
      "source": [
        "Following observations can be derived from above.\n",
        "\n",
        "- More than half of the respondents share or tends to share MH illness with their family and friends."
      ],
      "metadata": {
        "id": "86piQp3QS7lU"
      }
    },
    {
      "cell_type": "markdown",
      "source": [
        "### Predictions"
      ],
      "metadata": {
        "id": "PtRTp7mpan3n"
      }
    },
    {
      "cell_type": "code",
      "source": [
        "data2 = pd.get_dummies(data_df, drop_first=True)\n",
        "print(data2.shape)\n",
        "data2.columns"
      ],
      "metadata": {
        "colab": {
          "base_uri": "https://localhost:8080/"
        },
        "id": "WNhPX9R6fzHi",
        "outputId": "686fcd74-0f63-4f89-a6c8-fb2cd6c74269"
      },
      "execution_count": 101,
      "outputs": [
        {
          "output_type": "stream",
          "name": "stdout",
          "text": [
            "(1242, 44)\n"
          ]
        },
        {
          "output_type": "execute_result",
          "data": {
            "text/plain": [
              "Index(['mh_share', 'age', 'tech_company_Yes', 'benefits_No', 'benefits_Yes',\n",
              "       'workplace_resources_No', 'workplace_resources_Yes',\n",
              "       'mh_employer_discussion_Yes', 'mh_coworker_discussion_Yes',\n",
              "       'medical_coverage_Yes', 'mental_health_No', 'mental_health_Possibly',\n",
              "       'mental_health_Yes', 'gender_Male', 'gender_Other', 'country_Austria',\n",
              "       'country_Brazil', 'country_Canada', 'country_Colombia',\n",
              "       'country_Estonia', 'country_Finland', 'country_France',\n",
              "       'country_Germany', 'country_Greece', 'country_India',\n",
              "       'country_Indonesia', 'country_Ireland', 'country_Japan',\n",
              "       'country_Kenya', 'country_Macedonia', 'country_Mauritius',\n",
              "       'country_Mexico', 'country_Mongolia', 'country_Netherlands',\n",
              "       'country_Norway', 'country_Pakistan', 'country_Philippines',\n",
              "       'country_Poland', 'country_Portugal', 'country_Spain', 'country_Sweden',\n",
              "       'country_Switzerland', 'country_United Kingdom',\n",
              "       'country_United States of America'],\n",
              "      dtype='object')"
            ]
          },
          "metadata": {},
          "execution_count": 101
        }
      ]
    },
    {
      "cell_type": "code",
      "source": [
        "X = data2.drop('mental_health_Yes', axis=1)\n",
        "y = data2['mental_health_Yes']"
      ],
      "metadata": {
        "id": "96WZltTuf3Ca"
      },
      "execution_count": 102,
      "outputs": []
    },
    {
      "cell_type": "code",
      "source": [
        "#Categorical feature selection\n",
        "from sklearn.feature_selection import SelectKBest, chi2\n",
        "\n",
        "sf = SelectKBest(chi2, k='all')\n",
        "sf_fit = sf.fit(X, y)\n",
        "\n",
        "#Print feature scores\n",
        "for i in range(len(sf_fit.scores_)):\n",
        "    print(' %s: %f' % (X.columns[i], sf_fit.scores_[i]))"
      ],
      "metadata": {
        "colab": {
          "base_uri": "https://localhost:8080/"
        },
        "id": "-mk5-xCdgPI-",
        "outputId": "6a69ead7-e6af-4022-a459-a34489325b2b"
      },
      "execution_count": 103,
      "outputs": [
        {
          "output_type": "stream",
          "name": "stdout",
          "text": [
            " mh_share: 85.593267\n",
            " age: 0.468030\n",
            " tech_company_Yes: 0.308699\n",
            " benefits_No: 0.033382\n",
            " benefits_Yes: 12.073233\n",
            " workplace_resources_No: 0.033411\n",
            " workplace_resources_Yes: 1.866814\n",
            " mh_employer_discussion_Yes: 70.419068\n",
            " mh_coworker_discussion_Yes: 59.974250\n",
            " medical_coverage_Yes: 0.243084\n",
            " mental_health_No: 276.901306\n",
            " mental_health_Possibly: 206.271408\n",
            " gender_Male: 10.078599\n",
            " gender_Other: 9.000165\n",
            " country_Austria: 0.802612\n",
            " country_Brazil: 1.852083\n",
            " country_Canada: 2.190457\n",
            " country_Colombia: 1.245931\n",
            " country_Estonia: 1.605225\n",
            " country_Finland: 2.491863\n",
            " country_France: 7.774277\n",
            " country_Germany: 4.486860\n",
            " country_Greece: 0.802612\n",
            " country_India: 8.828737\n",
            " country_Indonesia: 0.024272\n",
            " country_Ireland: 1.217546\n",
            " country_Japan: 0.802612\n",
            " country_Kenya: 0.802612\n",
            " country_Macedonia: 0.802612\n",
            " country_Mauritius: 0.802612\n",
            " country_Mexico: 0.152127\n",
            " country_Mongolia: 0.802612\n",
            " country_Netherlands: 1.708279\n",
            " country_Norway: 2.491863\n",
            " country_Pakistan: 0.802612\n",
            " country_Philippines: 0.024272\n",
            " country_Poland: 0.802612\n",
            " country_Portugal: 1.234722\n",
            " country_Spain: 4.231968\n",
            " country_Sweden: 0.802612\n",
            " country_Switzerland: 2.491863\n",
            " country_United Kingdom: 5.073499\n",
            " country_United States of America: 9.993491\n"
          ]
        }
      ]
    },
    {
      "cell_type": "code",
      "source": [
        "#Plot scores\n",
        "datset = pd.DataFrame()\n",
        "datset['feature'] = X.columns[range(len(sf_fit.scores_))]\n",
        "datset['scores'] = sf_fit.scores_\n",
        "datset = datset.sort_values(by='scores', ascending=True)\n",
        "\n",
        "#Create barplot\n",
        "plt.figure(figsize=(15,8))\n",
        "sns.barplot(x=datset['scores'], y=datset['feature'], color='blue')\n",
        "#Set style attributes\n",
        "sns.set_style('whitegrid')\n",
        "plt.ylabel('Categorical Feature', fontsize=12)\n",
        "plt.xlabel('Score', fontsize=18)\n",
        "plt.show()"
      ],
      "metadata": {
        "colab": {
          "base_uri": "https://localhost:8080/",
          "height": 505
        },
        "id": "BKJDd3eNgP1y",
        "outputId": "016d8d8a-b146-41c6-b46b-58f80ad59c65"
      },
      "execution_count": 104,
      "outputs": [
        {
          "output_type": "display_data",
          "data": {
            "text/plain": [
              "<Figure size 1080x576 with 1 Axes>"
            ],
            "image/png": "[encoded data removed]"
          },
          "metadata": {}
        }
      ]
    },
    {
      "cell_type": "code",
      "source": [],
      "metadata": {
        "id": "95ufMs4R3Z4v"
      },
      "execution_count": 104,
      "outputs": []
    }
  ],
  "metadata": {
    "colab": {
      "provenance": [],
      "collapsed_sections": [
        "OAUNmFQXRzyk",
        "Pv12Kpn3grKj",
        "blFQNibrh61Y"
      ]
    },
    "kernelspec": {
      "display_name": "Python 3",
      "name": "python3"
    },
    "language_info": {
      "name": "python"
    }
  },
  "nbformat": 4,
  "nbformat_minor": 0
}